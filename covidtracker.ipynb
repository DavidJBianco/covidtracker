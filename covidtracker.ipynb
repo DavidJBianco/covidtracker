{
 "cells": [
  {
   "cell_type": "code",
   "execution_count": 0,
   "metadata": {},
   "outputs": [],
   "source": [
    "import pandas as pd\n",
    "import numpy as np\n",
    "\n",
    "import plotly.offline as po\n",
    "import plotly.graph_objects as go\n",
    "import plotly.express as px\n",
    "\n",
    "import requests\n",
    "\n",
    "import io\n",
    "\n",
    "from statsmodels.tsa.seasonal import STL\n",
    "from scipy import stats\n",
    "\n",
    "from huntlib.util import benfords\n",
    "\n",
    "from datetime import datetime\n",
    "\n",
    "import json\n",
    "\n",
    "import ipywidgets as widgets\n",
    "from IPython.display import display"
   ]
  },
  {
   "cell_type": "markdown",
   "metadata": {},
   "source": [
    "# Parameters & Setup"
   ]
  },
  {
   "cell_type": "code",
   "execution_count": 0,
   "metadata": {},
   "outputs": [],
   "source": [
    "COVID_DATA_URL = 'https://data.virginia.gov/api/views/bre9-aqqr/rows.csv?accessType=DOWNLOAD'"
   ]
  },
  {
   "cell_type": "code",
   "execution_count": 0,
   "metadata": {},
   "outputs": [],
   "source": [
    "w_ra_days = widgets.BoundedIntText(\n",
    "    min=3,\n",
    "    value=7,\n",
    "    description='Rolling Average Days: '\n",
    ")\n",
    "\n",
    "w_recent_days = widgets.BoundedIntText(\n",
    "    min=1,\n",
    "    max=180,\n",
    "    value=14,\n",
    "    description=\"Recent Days: \"\n",
    "    \n",
    ")\n",
    "\n",
    "display(w_ra_days)\n",
    "display(w_recent_days)"
   ]
  },
  {
   "cell_type": "code",
   "execution_count": 0,
   "metadata": {},
   "outputs": [],
   "source": [
    "ROLLING_AVERAGE_DAYS = w_ra_days.value # 7\n",
    "RECENT_DAYS = w_recent_days.value # 14"
   ]
  },
  {
   "cell_type": "markdown",
   "metadata": {},
   "source": [
    "# Data"
   ]
  },
  {
   "cell_type": "markdown",
   "metadata": {},
   "source": [
    "## Download the Most Recent Data"
   ]
  },
  {
   "cell_type": "code",
   "execution_count": 0,
   "metadata": {},
   "outputs": [],
   "source": [
    "res = requests.get(COVID_DATA_URL, allow_redirects=True)"
   ]
  },
  {
   "cell_type": "code",
   "execution_count": 0,
   "metadata": {},
   "outputs": [],
   "source": [
    "with open(f'cases-{datetime.now().strftime(\"%Y-%m-%d\")}.csv', \"w\") as f:\n",
    "    f.write(str(res.content, 'utf-8'))"
   ]
  },
  {
   "cell_type": "markdown",
   "metadata": {},
   "source": [
    "## Create DataFrame"
   ]
  },
  {
   "cell_type": "code",
   "execution_count": 0,
   "metadata": {},
   "outputs": [],
   "source": [
    "full_df = pd.read_csv(io.BytesIO(res.content), parse_dates=['Report Date'] )\n",
    "\n",
    "full_df['FIPS'] = full_df['FIPS'].astype('str')\n",
    "full_df['Locality'] = full_df['Locality'].astype('category')\n",
    "full_df['VDH Health District'] = full_df['VDH Health District'].astype('category')\n",
    "\n",
    "full_df.info()"
   ]
  },
  {
   "cell_type": "markdown",
   "metadata": {},
   "source": [
    "## Compute Daily Deltas"
   ]
  },
  {
   "cell_type": "code",
   "execution_count": 0,
   "metadata": {},
   "outputs": [],
   "source": [
    "local_dfs = list()\n",
    "\n",
    "for locality in full_df.Locality.unique():\n",
    "    ldf = full_df[full_df['Locality'] == locality].copy()\n",
    "    ldf['Daily Cases'] = ldf['Total Cases'].diff().fillna(0).astype('int')\n",
    "    ldf['Daily Hospitalizations'] = ldf['Hospitalizations'].diff().fillna(0).astype('int')\n",
    "    ldf['Daily Deaths'] = ldf['Deaths'].diff().fillna(0).astype('int')\n",
    "    local_dfs.append(ldf)\n",
    "    \n",
    "full_df = pd.concat(local_dfs, ignore_index=True).sort_values(by=['Report Date', 'Locality']).reindex()\n",
    "\n",
    "full_df"
   ]
  },
  {
   "cell_type": "markdown",
   "metadata": {},
   "source": [
    "# Tamper Detection"
   ]
  },
  {
   "cell_type": "code",
   "execution_count": 0,
   "metadata": {},
   "outputs": [],
   "source": [
    "def check_benfords(df, columns=['Total Cases', 'Hospitalizations', 'Deaths'], threshold=0.06, p_threshold=0.99999):\n",
    "    retval = True\n",
    "    for col in columns:\n",
    "        r, p, _ = benfords(df[col])\n",
    "        if r > threshold or p <= p_threshold:\n",
    "            print(f\"WARNING: '{col}' did not pass the Benford's Law test ({r}, {p}).\")\n",
    "            retval = False \n",
    "            \n",
    "    return retval"
   ]
  },
  {
   "cell_type": "code",
   "execution_count": 0,
   "metadata": {},
   "outputs": [],
   "source": [
    "check_benfords(full_df)"
   ]
  },
  {
   "cell_type": "markdown",
   "metadata": {},
   "source": [
    "# Graphs"
   ]
  },
  {
   "cell_type": "markdown",
   "metadata": {},
   "source": [
    "## Cumulative Summary of Cases, Hospitalizations and Deaths"
   ]
  },
  {
   "cell_type": "code",
   "execution_count": 0,
   "metadata": {},
   "outputs": [],
   "source": [
    "def plot_daily_cumulative_summary(df):\n",
    "    cum_sum_df = df[['Report Date', 'Total Cases', 'Hospitalizations', 'Deaths']].groupby('Report Date').sum()\n",
    "    \n",
    "    fig = go.Figure(\n",
    "        data=go.Scatter(\n",
    "            x=cum_sum_df.index,\n",
    "            y=cum_sum_df['Total Cases'],\n",
    "            mode='lines',\n",
    "            name='Total Cases'\n",
    "        )\n",
    "    )\n",
    "\n",
    "    fig.add_trace(\n",
    "        go.Scatter(\n",
    "            x=cum_sum_df.index,\n",
    "            y=cum_sum_df['Hospitalizations'],\n",
    "            mode='lines',\n",
    "            name='Hospitalizations'\n",
    "        )\n",
    "    )\n",
    "\n",
    "    fig.add_trace(\n",
    "        go.Scatter(\n",
    "            x=cum_sum_df.index,\n",
    "            y=cum_sum_df['Deaths'],\n",
    "            mode='lines',\n",
    "            name='Deaths'\n",
    "        )\n",
    "    )\n",
    "\n",
    "    fig.update_layout(\n",
    "        title=\"Virginia Cumulative Cases, Hospitalizations & Deaths\"\n",
    "    )\n",
    "\n",
    "    fig.show()"
   ]
  },
  {
   "cell_type": "code",
   "execution_count": 0,
   "metadata": {},
   "outputs": [],
   "source": [
    "plot_daily_cumulative_summary(full_df)"
   ]
  },
  {
   "cell_type": "markdown",
   "metadata": {},
   "source": [
    "## Daily Numbers vs. Rolling Average"
   ]
  },
  {
   "cell_type": "code",
   "execution_count": 0,
   "metadata": {},
   "outputs": [],
   "source": [
    "def plot_timeseries(df, column, locality=None, anomaly_threshold=3, baseline_type='ra'):\n",
    "\n",
    "    if locality:\n",
    "        local_series = df[df.Locality == locality][['Report Date', column]].groupby('Report Date').sum().sort_index()[column]\n",
    "    else:\n",
    "        local_series = df.groupby('Report Date').sum().sort_index()[column]\n",
    "        locality = \"Virginia Overall\"\n",
    "    \n",
    "    fig = go.Figure(\n",
    "        data=go.Scatter(\n",
    "            x=local_series.index,\n",
    "            y=local_series,\n",
    "            mode='lines',\n",
    "            name=column\n",
    "        )\n",
    "    )\n",
    "\n",
    "    seasonal = STL(local_series, robust=True)\n",
    "    \n",
    "    seasonal = seasonal.fit()\n",
    "    \n",
    "    if baseline_type == 'trend' or baseline_type == 'trend_seasonal':\n",
    "        fig.add_trace(\n",
    "            go.Scatter(\n",
    "                x=local_series.index,\n",
    "                y=seasonal.trend + seasonal.seasonal,\n",
    "                mode='lines',\n",
    "                marker_color='green',\n",
    "                name='Basline (Trend + Seasonal)'\n",
    "            )\n",
    "        )\n",
    "    else:\n",
    "        fig.add_trace(\n",
    "            go.Scatter(\n",
    "                x=local_series.index,\n",
    "                y=local_series.rolling(ROLLING_AVERAGE_DAYS).mean(),\n",
    "                mode='lines',\n",
    "                marker_color='green',\n",
    "                name=\"Baseline (Rolling Average)\"\n",
    "            )\n",
    "        )\n",
    "    \n",
    "    anomalies = seasonal.resid[abs(seasonal.resid - seasonal.resid.mean()) >= (anomaly_threshold * seasonal.resid.std())]\n",
    "\n",
    "    fig.add_trace(\n",
    "        go.Scatter(\n",
    "            x=anomalies.index,\n",
    "            y=local_series.loc[anomalies.index],\n",
    "            mode='markers',\n",
    "            marker_symbol='x',\n",
    "            marker_color='red',\n",
    "            marker = dict(\n",
    "              size=10  \n",
    "            ),\n",
    "            name='Anomalies'\n",
    "        )\n",
    "    )\n",
    "    \n",
    "    fig.update_layout(\n",
    "        title=f\"COVID-19 {column} vs {ROLLING_AVERAGE_DAYS} Day Average: {locality}\"\n",
    "    )\n",
    "\n",
    "    fig.show()\n"
   ]
  },
  {
   "cell_type": "markdown",
   "metadata": {},
   "source": [
    "### Virginia Overall"
   ]
  },
  {
   "cell_type": "code",
   "execution_count": 0,
   "metadata": {},
   "outputs": [],
   "source": [
    "plot_timeseries(full_df, column='Daily Cases')\n",
    "plot_timeseries(full_df, column='Daily Hospitalizations')\n",
    "plot_timeseries(full_df, column='Daily Deaths')"
   ]
  },
  {
   "cell_type": "code",
   "execution_count": 0,
   "metadata": {},
   "outputs": [],
   "source": [
    "widget_locality_chooser = widgets.Dropdown(\n",
    "    options=full_df.Locality.unique(),\n",
    "    value='James City',\n",
    "    description=\"Locality: \"\n",
    ")\n",
    "\n",
    "@widgets.interact(locality=widget_locality_chooser)\n",
    "def make_locality_plots(locality):\n",
    "    plot_timeseries(full_df, column='Daily Cases', locality=locality)\n",
    "    plot_timeseries(full_df, column='Daily Hospitalizations', locality=locality)\n",
    "    plot_timeseries(full_df, column='Daily Deaths', locality=locality)"
   ]
  },
  {
   "cell_type": "markdown",
   "metadata": {},
   "source": [
    "## Activity Heatmaps by County"
   ]
  },
  {
   "cell_type": "code",
   "execution_count": 0,
   "metadata": {},
   "outputs": [],
   "source": [
    "with open('geojson-counties-fips.json', 'r') as f:\n",
    "    counties = f.read()\n",
    "    \n",
    "counties = json.loads(counties)"
   ]
  },
  {
   "cell_type": "code",
   "execution_count": 0,
   "metadata": {},
   "outputs": [],
   "source": [
    "start_time = full_df[-1:]['Report Date'] - pd.DateOffset(RECENT_DAYS, 'D')\n",
    "\n",
    "recent_df = full_df[full_df['Report Date'] >= start_time.iloc[0]]\n",
    "\n",
    "recent_df = recent_df.drop(['Total Cases', 'Hospitalizations', 'Deaths'], axis='columns')\n",
    "\n",
    "recent_df = recent_df.rename(\n",
    "    {\n",
    "        'Daily Cases': 'Cases',\n",
    "        'Daily Hospitalizations': 'Hospitalizations',\n",
    "        'Daily Deaths': 'Deaths'\n",
    "    },\n",
    "    axis='columns'\n",
    ")\n",
    "\n",
    "recent_df = recent_df.groupby(['FIPS', 'Locality']).sum().reset_index()\n",
    "recent_df.head()"
   ]
  },
  {
   "cell_type": "code",
   "execution_count": 0,
   "metadata": {},
   "outputs": [],
   "source": [
    "def plot_heatmap(df, geojson, column=None, locations='FIPS', height=1000, width=None, color_scale='viridis'):\n",
    "    fig = px.choropleth(\n",
    "        df,\n",
    "        geojson=geojson,\n",
    "        locations=locations,\n",
    "        color=column,\n",
    "        scope='usa',\n",
    "        hover_data=['Locality', 'FIPS', column],\n",
    "        height=height,\n",
    "        width=width,\n",
    "        color_continuous_scale=color_scale,\n",
    "        title=f\"{column} in Last {RECENT_DAYS} Days by County\"\n",
    "    )\n",
    "\n",
    "    fig.update_geos(fitbounds='locations')\n",
    "    \n",
    "    fig.show()"
   ]
  },
  {
   "cell_type": "code",
   "execution_count": 0,
   "metadata": {},
   "outputs": [],
   "source": [
    "plot_heatmap(recent_df, counties, column='Cases')"
   ]
  },
  {
   "cell_type": "code",
   "execution_count": 0,
   "metadata": {},
   "outputs": [],
   "source": [
    "plot_heatmap(recent_df, counties, column='Hospitalizations')"
   ]
  },
  {
   "cell_type": "code",
   "execution_count": 0,
   "metadata": {},
   "outputs": [],
   "source": [
    "plot_heatmap(recent_df, counties, column='Deaths')"
   ]
  }
 ],
 "metadata": {
  "kernelspec": {
   "display_name": "Python 3",
   "language": "python",
   "name": "python3"
  },
  "language_info": {
   "codemirror_mode": {
    "name": "ipython",
    "version": 3
   },
   "file_extension": ".py",
   "mimetype": "text/x-python",
   "name": "python",
   "nbconvert_exporter": "python",
   "pygments_lexer": "ipython3",
   "version": "3.8.5"
  },
  "toc-autonumbering": false,
  "toc-showcode": false,
  "toc-showmarkdowntxt": false
 },
 "nbformat": 4,
 "nbformat_minor": 4
}