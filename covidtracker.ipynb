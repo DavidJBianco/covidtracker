{
 "cells": [
  {
   "cell_type": "code",
   "execution_count": 0,
   "metadata": {},
   "outputs": [],
   "source": [
    "import pandas as pd\n",
    "import numpy as np\n",
    "\n",
    "import plotly.offline as po\n",
    "import plotly.graph_objects as go\n",
    "import plotly.express as px\n",
    "\n",
    "import requests\n",
    "\n",
    "import io\n",
    "\n",
    "from statsmodels.tsa.seasonal import seasonal_decompose\n",
    "\n",
    "from huntlib.util import benfords\n",
    "\n",
    "from datetime import datetime"
   ]
  },
  {
   "cell_type": "markdown",
   "metadata": {},
   "source": [
    "# Parameters & Setup"
   ]
  },
  {
   "cell_type": "code",
   "execution_count": 0,
   "metadata": {},
   "outputs": [],
   "source": [
    "COVID_DATA_URL = 'https://data.virginia.gov/api/views/bre9-aqqr/rows.csv?accessType=DOWNLOAD'\n",
    "ROLLING_AVERAGE_DAYS = 7"
   ]
  },
  {
   "cell_type": "markdown",
   "metadata": {},
   "source": [
    "# Data"
   ]
  },
  {
   "cell_type": "markdown",
   "metadata": {},
   "source": [
    "## Download the Most Recent Data"
   ]
  },
  {
   "cell_type": "code",
   "execution_count": 0,
   "metadata": {},
   "outputs": [],
   "source": [
    "res = requests.get(COVID_DATA_URL, allow_redirects=True)"
   ]
  },
  {
   "cell_type": "code",
   "execution_count": 0,
   "metadata": {},
   "outputs": [],
   "source": [
    "print(str(res.content[:20], 'utf-8'))"
   ]
  },
  {
   "cell_type": "code",
   "execution_count": 0,
   "metadata": {},
   "outputs": [],
   "source": [
    "with open(f'cases-{datetime.now().strftime(\"%Y-%m-%d\")}.csv', \"w\") as f:\n",
    "    f.write(str(res.content, 'utf-8'))"
   ]
  },
  {
   "cell_type": "markdown",
   "metadata": {},
   "source": [
    "## Create DataFrame"
   ]
  },
  {
   "cell_type": "code",
   "execution_count": 0,
   "metadata": {},
   "outputs": [],
   "source": [
    "full_df = pd.read_csv(io.BytesIO(res.content), parse_dates=['Report Date'] )\n",
    "\n",
    "full_df['FIPS'] = full_df['FIPS'].astype('category')\n",
    "full_df['Locality'] = full_df['Locality'].astype('category')\n",
    "full_df['VDH Health District'] = full_df['VDH Health District'].astype('category')\n",
    "\n",
    "full_df.info()"
   ]
  },
  {
   "cell_type": "markdown",
   "metadata": {},
   "source": [
    "## Compute Daily Deltas"
   ]
  },
  {
   "cell_type": "code",
   "execution_count": 0,
   "metadata": {},
   "outputs": [],
   "source": [
    "local_dfs = list()\n",
    "\n",
    "for locality in full_df.Locality.unique():\n",
    "    ldf = full_df[full_df['Locality'] == locality].copy()\n",
    "    ldf['Daily Cases'] = ldf['Total Cases'].diff().fillna(0).astype('int')\n",
    "    ldf['Daily Hospitalizations'] = ldf['Hospitalizations'].diff().fillna(0).astype('int')\n",
    "    ldf['Daily Deaths'] = ldf['Deaths'].diff().fillna(0).astype('int')\n",
    "    local_dfs.append(ldf)\n",
    "    \n",
    "full_df = pd.concat(local_dfs, ignore_index=True).sort_values(by=['Report Date', 'Locality']).reindex()\n",
    "\n",
    "full_df"
   ]
  },
  {
   "cell_type": "markdown",
   "metadata": {},
   "source": [
    "# Tamper Detection"
   ]
  },
  {
   "cell_type": "code",
   "execution_count": 0,
   "metadata": {},
   "outputs": [],
   "source": [
    "def check_benfords(df, columns=['Total Cases', 'Hospitalizations', 'Deaths'], threshold=0.06, p_threshold=0.99999):\n",
    "    retval = True\n",
    "    for col in columns:\n",
    "        r, p, _ = benfords(df[col])\n",
    "        if r > threshold or p <= p_threshold:\n",
    "            print(f\"WARNING: '{col}' did not pass the Benford's Law test ({r}, {p}).\")\n",
    "            retval = False \n",
    "            \n",
    "    return retval"
   ]
  },
  {
   "cell_type": "code",
   "execution_count": 0,
   "metadata": {},
   "outputs": [],
   "source": [
    "check_benfords(full_df)"
   ]
  },
  {
   "cell_type": "markdown",
   "metadata": {},
   "source": [
    "# Graphs"
   ]
  },
  {
   "cell_type": "markdown",
   "metadata": {},
   "source": [
    "## Cumulative Summary of Cases, Hospitalizations and Deaths"
   ]
  },
  {
   "cell_type": "code",
   "execution_count": 0,
   "metadata": {},
   "outputs": [],
   "source": [
    "def plot_daily_cumulative_summary(df):\n",
    "    cum_sum_df = df[['Report Date', 'Total Cases', 'Hospitalizations', 'Deaths']].groupby('Report Date').sum()\n",
    "    \n",
    "    fig = go.Figure(\n",
    "        data=go.Scatter(\n",
    "            x=cum_sum_df.index,\n",
    "            y=cum_sum_df['Total Cases'],\n",
    "            mode='lines',\n",
    "            name='Total Cases'\n",
    "        )\n",
    "    )\n",
    "\n",
    "    fig.add_trace(\n",
    "        go.Scatter(\n",
    "            x=cum_sum_df.index,\n",
    "            y=cum_sum_df['Hospitalizations'],\n",
    "            mode='lines',\n",
    "            name='Hospitalizations'\n",
    "        )\n",
    "    )\n",
    "\n",
    "    fig.add_trace(\n",
    "        go.Scatter(\n",
    "            x=cum_sum_df.index,\n",
    "            y=cum_sum_df['Deaths'],\n",
    "            mode='lines',\n",
    "            name='Deaths'\n",
    "        )\n",
    "    )\n",
    "\n",
    "    fig.update_layout(\n",
    "        title=\"Virginia Cumulative Cases, Hospitalizations & Deaths\"\n",
    "    )\n",
    "\n",
    "    fig.show()"
   ]
  },
  {
   "cell_type": "code",
   "execution_count": 0,
   "metadata": {},
   "outputs": [],
   "source": [
    "plot_daily_cumulative_summary(full_df)"
   ]
  },
  {
   "cell_type": "markdown",
   "metadata": {},
   "source": [
    "## Daily Numbers vs. Rolling Average"
   ]
  },
  {
   "cell_type": "code",
   "execution_count": 0,
   "metadata": {},
   "outputs": [],
   "source": [
    "def plot_ra(df, column, locality=None, anomaly_threshold=3):\n",
    "\n",
    "    if locality:\n",
    "        local_series = df[df.Locality == locality][['Report Date', column]].groupby('Report Date').sum().sort_index()[column]\n",
    "    else:\n",
    "        local_series = df.groupby('Report Date').sum().sort_index()[column]\n",
    "        locality = \"Virginia Overall\"\n",
    "    \n",
    "    fig = go.Figure(\n",
    "        data=go.Scatter(\n",
    "            x=local_series.index,\n",
    "            y=local_series,\n",
    "            mode='lines',\n",
    "            name=column\n",
    "        )\n",
    "    )\n",
    "\n",
    "    fig.add_trace(\n",
    "        go.Scatter(\n",
    "            x=local_series.index,\n",
    "            y=local_series.rolling(ROLLING_AVERAGE_DAYS).mean(),\n",
    "            mode='lines',\n",
    "            marker_color='green',\n",
    "            name=\"Rolling Average\"\n",
    "        )\n",
    "    )\n",
    "\n",
    "    seasonal = seasonal_decompose(local_series, model='additive')\n",
    "    \n",
    "    anomalies = seasonal.resid[abs(seasonal.resid - seasonal.resid.mean()) >= (anomaly_threshold * seasonal.resid.std())]\n",
    "    \n",
    "    fig.add_trace(\n",
    "        go.Scatter(\n",
    "            x=anomalies.index,\n",
    "            y=local_series.loc[anomalies.index],\n",
    "            mode='markers',\n",
    "            marker_symbol='x',\n",
    "            marker_color='red',\n",
    "            marker = dict(\n",
    "              size=10  \n",
    "            ),\n",
    "            name='Anomalies'\n",
    "        )\n",
    "    )\n",
    "    \n",
    "    fig.update_layout(\n",
    "        title=f\"COVID-19 {column} vs {ROLLING_AVERAGE_DAYS} Day Average: {locality}\"\n",
    "    )\n",
    "\n",
    "    fig.show()\n"
   ]
  },
  {
   "cell_type": "markdown",
   "metadata": {},
   "source": [
    "### Virginia Overall"
   ]
  },
  {
   "cell_type": "code",
   "execution_count": 0,
   "metadata": {},
   "outputs": [],
   "source": [
    "plot_ra(full_df, column='Daily Cases')\n",
    "plot_ra(full_df, column='Daily Hospitalizations')\n",
    "plot_ra(full_df, column='Daily Deaths')"
   ]
  },
  {
   "cell_type": "markdown",
   "metadata": {},
   "source": [
    "### James City"
   ]
  },
  {
   "cell_type": "code",
   "execution_count": 0,
   "metadata": {},
   "outputs": [],
   "source": [
    "# 'James City', 'Williamsburg', 'York', 'Newport News', 'Hampton', etc\n",
    "locality = 'James City'\n",
    "\n",
    "plot_ra(full_df, column='Daily Cases', locality=locality, anomaly_threshold=3)\n",
    "plot_ra(full_df, column='Daily Hospitalizations', locality=locality)\n",
    "plot_ra(full_df, column='Daily Deaths', locality=locality)"
   ]
  }
 ],
 "metadata": {
  "kernelspec": {
   "display_name": "Python 3",
   "language": "python",
   "name": "python3"
  },
  "language_info": {
   "codemirror_mode": {
    "name": "ipython",
    "version": 3
   },
   "file_extension": ".py",
   "mimetype": "text/x-python",
   "name": "python",
   "nbconvert_exporter": "python",
   "pygments_lexer": "ipython3",
   "version": "3.8.5"
  },
  "toc-autonumbering": false,
  "toc-showcode": false,
  "toc-showmarkdowntxt": false
 },
 "nbformat": 4,
 "nbformat_minor": 4
}